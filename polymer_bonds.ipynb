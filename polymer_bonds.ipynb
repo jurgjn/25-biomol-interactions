{
  "nbformat": 4,
  "nbformat_minor": 0,
  "metadata": {
    "colab": {
      "provenance": [],
      "gpuType": "A100",
      "toc_visible": true
    },
    "kernelspec": {
      "name": "python3",
      "display_name": "Python 3"
    },
    "language_info": {
      "name": "python"
    },
    "accelerator": "GPU"
  },
  "cells": [
    {
      "cell_type": "markdown",
      "source": [
        "# Setup\n",
        "- Install alphafold3, colabfold\n",
        "- Copy model weights from Google Drive (adjust path & give permission when asked)"
      ],
      "metadata": {
        "id": "25wp9fr0Dfff"
      }
    },
    {
      "cell_type": "code",
      "source": [
        "%%shell\n",
        "pip install --quiet git+https://github.com/jurgjn/alphafold3-polymer-bonds.git\n",
        "ALPHAFOLD3_VERSION=\"2e2ffc1⁠\"\n",
        "source <(curl -fsSL https://raw.githubusercontent.com/jurgjn/alphafold3-polymer-bonds/refs/heads/main/colab/install)"
      ],
      "metadata": {
        "id": "aBWLk3NgXnwa"
      },
      "execution_count": null,
      "outputs": []
    },
    {
      "cell_type": "code",
      "source": [
        "# Copy weights from Google Drive to the default location at /root/models/af3.bin.zst\n",
        "from google.colab import drive\n",
        "drive.mount('/mnt/gdrive')\n",
        "!mkdir -p /root/models/\n",
        "!cp /mnt/gdrive/MyDrive/alphafold3/models/af3.bin.zst /root/models/af3.bin.zst\n",
        "!md5sum /root/models/af3.bin.zst\n",
        "drive.flush_and_unmount()"
      ],
      "metadata": {
        "id": "JZKCDpQLWeXZ"
      },
      "execution_count": null,
      "outputs": []
    },
    {
      "cell_type": "code",
      "source": [
        "# Standard imports\n",
        "import argparse, collections, copy, gzip, json, os, os.path, re, string, sys\n",
        "import numpy as np\n",
        "# Helper functions for manipulating AlphaFold 3 input jsons: https://github.com/google-deepmind/alphafold3/blob/main/docs/input.md\n",
        "from alphafold3_polymer_bonds.alphafold3_io import colab_data_pipeline, init_input_json, read_input_json, print_input_json, write_input_json"
      ],
      "metadata": {
        "id": "BOi2WFbYKkxK"
      },
      "execution_count": null,
      "outputs": []
    },
    {
      "cell_type": "markdown",
      "source": [
        "# 1DF6 cycloviolacin O1"
      ],
      "metadata": {
        "id": "dJU1Lu1mDpHe"
      }
    },
    {
      "cell_type": "markdown",
      "source": [
        "## Sequence-only baseline"
      ],
      "metadata": {
        "id": "3oCmAJ5g09ef"
      }
    },
    {
      "cell_type": "code",
      "source": [
        "# Fetch peptide sequence from the PDB\n",
        "!curl -fsSL https://www.rcsb.org/fasta/entry/1DF6"
      ],
      "metadata": {
        "id": "CIwDuaIUJGLT"
      },
      "execution_count": null,
      "outputs": []
    },
    {
      "cell_type": "code",
      "source": [
        "js = init_input_json('SCVYIPCTVTALLGCSCSNRVCYNGIPCAE')\n",
        "js['name'] = '1DF6_baseline'\n",
        "js = colab_data_pipeline(js)\n",
        "print_input_json(js)\n",
        "write_input_json(js, '1DF6_baseline_input/{}.json')"
      ],
      "metadata": {
        "id": "MjAHBVEkjUc1"
      },
      "execution_count": null,
      "outputs": []
    },
    {
      "cell_type": "code",
      "source": [
        "%%shell\n",
        "source /alphafold3_venv/bin/activate\n",
        "/app/alphafold/run_alphafold3_autogpu.sh \\\n",
        "  --input_dir=/content/1DF6_baseline_input/ \\\n",
        "  --output_dir=/content/1DF6_baseline_output/ \\\n",
        "  --norun_data_pipeline"
      ],
      "metadata": {
        "id": "RbvLAnQZKemf"
      },
      "execution_count": null,
      "outputs": []
    },
    {
      "cell_type": "markdown",
      "source": [
        "## Cyclic with GLU30 as ligand"
      ],
      "metadata": {
        "id": "W3_Gm2QSD19V"
      }
    },
    {
      "cell_type": "code",
      "source": [
        "js = init_input_json('SCVYIPCTVTALLGCSCSNRVCYNGIPCA')\n",
        "js['name'] = '1DF6_cyclic'\n",
        "js['sequences'].append(\n",
        "  collections.OrderedDict([('ligand',\n",
        "    collections.OrderedDict([\n",
        "        ('id', 'B'),\n",
        "        ('ccdCodes', ['GLU']),\n",
        "    ])\n",
        "  )])\n",
        ")\n",
        "js['bondedAtomPairs'] = [\n",
        "  [['A', 29, 'C'], ['B', 1, 'N']],\n",
        "  [['B', 1, 'C'], ['A', 1, 'N']],\n",
        "]\n",
        "js = colab_data_pipeline(js)\n",
        "#print_json(js)\n",
        "write_input_json(js, '1DF6_cyclic_input/{}.json')"
      ],
      "metadata": {
        "id": "tnEUQ0t8M8gM"
      },
      "execution_count": null,
      "outputs": []
    },
    {
      "cell_type": "code",
      "source": [
        "%%shell\n",
        "source /alphafold3_venv/bin/activate\n",
        "/app/alphafold/run_alphafold3_autogpu.sh \\\n",
        "  --input_dir=/content/1DF6_cyclic_input \\\n",
        "  --output_dir=/content/1DF6_cyclic_output \\\n",
        "  --norun_data_pipeline"
      ],
      "metadata": {
        "id": "RB9oMxUxU7Ml"
      },
      "execution_count": null,
      "outputs": []
    },
    {
      "cell_type": "markdown",
      "source": [
        "# 6OQ1 branched tri-ubiquitin"
      ],
      "metadata": {
        "id": "i6s_lObyS_xg"
      }
    },
    {
      "cell_type": "markdown",
      "source": [
        "## Sequence-only baseline"
      ],
      "metadata": {
        "id": "uKne_-dd1Reu"
      }
    },
    {
      "cell_type": "code",
      "source": [
        "!curl -fsSL https://www.rcsb.org/fasta/entry/6OQ1"
      ],
      "metadata": {
        "id": "lAD1pODdTFaT"
      },
      "execution_count": null,
      "outputs": []
    },
    {
      "cell_type": "code",
      "source": [
        "js = init_input_json(\n",
        "  'MQIFVKTLTGRTITLEVEPSDTIENVKAKIQDKEGIPPDQQRLIFAGCQLEDGRTLSDYNIQRESTLHLVLRLRGG',\n",
        "  'MQIFVKTLTGKTITLEVEPSDTIENVKAKIQDKEGIPPDQQRLIFAGRQLEDGRTLSDYNIQKESTLHLVLRLRGG',\n",
        "  'MQIFVKTLTGKTITLEVEPSDTIENVKAKIQDKEGIPPDQQRLIFAGKQLEDGRTLSDYNIQKESTLHLVLRLRGGD',\n",
        ")\n",
        "js['name'] = '6OQ1_baseline'\n",
        "js = colab_data_pipeline(js)\n",
        "write_input_json(js, '6OQ1_baseline_input/{}.json')"
      ],
      "metadata": {
        "id": "HK9FqjC2TL2D"
      },
      "execution_count": null,
      "outputs": []
    },
    {
      "cell_type": "code",
      "source": [
        "%%shell\n",
        "source /alphafold3_venv/bin/activate\n",
        "/app/alphafold/run_alphafold3_autogpu.sh \\\n",
        "  --input_dir=/content/6OQ1_baseline_input \\\n",
        "  --output_dir=/content/6OQ1_baseline_output \\\n",
        "  --norun_data_pipeline"
      ],
      "metadata": {
        "id": "COQhqah4T3iJ"
      },
      "execution_count": null,
      "outputs": []
    },
    {
      "cell_type": "markdown",
      "source": [
        "## Branching with polybonds script"
      ],
      "metadata": {
        "id": "C-RUT5dZ1lAN"
      }
    },
    {
      "cell_type": "code",
      "source": [
        "js = init_input_json(\n",
        "  'MQIFVKTLTGRTITLEVEPSDTIENVKAKIQDKEGIPPDQQRLIFAGCQLEDGRTLSDYNIQRESTLHLVLRLRGG',\n",
        "  'MQIFVKTLTGKTITLEVEPSDTIENVKAKIQDKEGIPPDQQRLIFAGRQLEDGRTLSDYNIQKESTLHLVLRLRGG',\n",
        "  'MQIFVKTLTGKTITLEVEPSDTIENVKAKIQDKEGIPPDQQRLIFAGKQLEDGRTLSDYNIQKESTLHLVLRLRGGD',\n",
        ")\n",
        "js['name'] = '6OQ1_polybonds'\n",
        "js['bondedAtomPairs'] = [\n",
        "  [['C', 11, 'NZ'], ['A', 76, 'C']],\n",
        "  [['C', 48, 'NZ'], ['B', 76, 'C']],\n",
        "]\n",
        "write_input_json(js, '6OQ1_polybonds_bondedAtoms/{}.json')"
      ],
      "metadata": {
        "id": "jxaVGvCKUGIG"
      },
      "execution_count": null,
      "outputs": []
    },
    {
      "cell_type": "code",
      "source": [
        "!alphafold3_polymer_bonds --source_path 6OQ1_polybonds_bondedAtoms/6OQ1_polybonds.json --output_path 6OQ1_polybonds_encoded/6OQ1_polybonds.json"
      ],
      "metadata": {
        "id": "Tb6F9XSvbBEI"
      },
      "execution_count": null,
      "outputs": []
    },
    {
      "cell_type": "code",
      "source": [
        "js = read_input_json('6OQ1_polybonds_encoded/6OQ1_polybonds.json')\n",
        "js = colab_data_pipeline(js)\n",
        "print_input_json(js)\n",
        "write_input_json(js, '6OQ1_polybonds_input/6OQ1_polybonds.json')"
      ],
      "metadata": {
        "id": "j0Ophopsbd43"
      },
      "execution_count": null,
      "outputs": []
    },
    {
      "cell_type": "code",
      "source": [
        "%%shell\n",
        "source /alphafold3_venv/bin/activate\n",
        "/app/alphafold/run_alphafold3_autogpu.sh \\\n",
        "  --input_dir=/content/6OQ1_polybonds_input \\\n",
        "  --output_dir=/content/6OQ1_polybonds_output \\\n",
        "  --norun_data_pipeline"
      ],
      "metadata": {
        "id": "-OAL2h4kby-1"
      },
      "execution_count": null,
      "outputs": []
    },
    {
      "cell_type": "code",
      "source": [],
      "metadata": {
        "id": "O7w_RXt4b6j0"
      },
      "execution_count": null,
      "outputs": []
    }
  ]
}