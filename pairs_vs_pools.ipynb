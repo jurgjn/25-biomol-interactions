{
  "nbformat": 4,
  "nbformat_minor": 0,
  "metadata": {
    "colab": {
      "provenance": [],
      "gpuType": "A100"
    },
    "kernelspec": {
      "name": "python3",
      "display_name": "Python 3"
    },
    "language_info": {
      "name": "python"
    },
    "accelerator": "GPU"
  },
  "cells": [
    {
      "cell_type": "markdown",
      "source": [
        "# Setup\n",
        "- Install alphafold3, colabfold\n",
        "- Copy model weights from Google Drive (adjust path & give permission when asked)"
      ],
      "metadata": {
        "id": "vOpvGmvd55KF"
      }
    },
    {
      "cell_type": "code",
      "source": [
        "%%shell\n",
        "pip install alphafold3-polymer-bonds\n",
        "ALPHAFOLD3_VERSION=\"2e2ffc1⁠\"\n",
        "source <(curl -fsSL https://raw.githubusercontent.com/jurgjn/alphafold3-polymer-bonds/refs/heads/main/colab/install)"
      ],
      "metadata": {
        "id": "aBWLk3NgXnwa"
      },
      "execution_count": null,
      "outputs": []
    },
    {
      "cell_type": "code",
      "source": [
        "# Copy weights from Google Drive to the default location at /root/models/af3.bin.zst\n",
        "from google.colab import drive\n",
        "drive.mount('/mnt/gdrive')\n",
        "!mkdir -p /root/models/\n",
        "!cp /mnt/gdrive/MyDrive/alphafold3/models/af3.bin.zst /root/models/af3.bin.zst\n",
        "!md5sum /root/models/af3.bin.zst\n",
        "drive.flush_and_unmount()"
      ],
      "metadata": {
        "id": "nHPPBBAS54lT"
      },
      "execution_count": null,
      "outputs": []
    },
    {
      "cell_type": "code",
      "source": [
        "# Standard imports\n",
        "import argparse, collections, copy, gzip, json, os, os.path, re, string, sys\n",
        "import numpy as np\n",
        "# Helper functions for manipulating AlphaFold 3 input jsons: https://github.com/google-deepmind/alphafold3/blob/main/docs/input.md\n",
        "from alphafold3_polymer_bonds.alphafold3_io import colab_data_pipeline, init_input_json, read_input_json, print_input_json, write_input_json"
      ],
      "metadata": {
        "id": "MYYwEjxQ6VDi"
      },
      "execution_count": null,
      "outputs": []
    },
    {
      "cell_type": "markdown",
      "source": [
        "# Running inference on a single monomer"
      ],
      "metadata": {
        "id": "0mlq5qz86c53"
      }
    },
    {
      "cell_type": "code",
      "source": [
        "# Download sequences for a selection of species\n",
        "%%shell\n",
        "mkdir -p fasta\n",
        "curl -fsSL https://rest.uniprot.org/uniprotkb/Q8U2C1.fasta | sed -e \"1s/.*/>pyrfu/\" > fasta/pyrfu.fasta\n",
        "curl -fsSL https://rest.uniprot.org/uniprotkb/P65845.fasta | sed -e \"1s/.*/>ecoli/\" > fasta/ecoli.fasta\n",
        "curl -fsSL https://rest.uniprot.org/uniprotkb/P31115.fasta | sed -e \"1s/.*/>yeast/\" > fasta/yeast.fasta\n",
        "curl -fsSL https://rest.uniprot.org/uniprotkb/Q09524.fasta | sed -e \"1s/.*/>caeel/\" > fasta/caeel.fasta\n",
        "curl -fsSL https://rest.uniprot.org/uniprotkb/Q9W282.fasta | sed -e \"1s/.*/>drome/\" > fasta/drome.fasta\n",
        "curl -fsSL https://rest.uniprot.org/uniprotkb/Q6P815.fasta | sed -e \"1s/.*/>xentr/\" > fasta/xentr.fasta\n",
        "curl -fsSL https://rest.uniprot.org/uniprotkb/Q7ZW97.fasta | sed -e \"1s/.*/>danre/\" > fasta/danre.fasta\n",
        "curl -fsSL https://rest.uniprot.org/uniprotkb/Q9JI38.fasta | sed -e \"1s/.*/>mouse/\" > fasta/mouse.fasta\n",
        "curl -fsSL https://rest.uniprot.org/uniprotkb/Q9BZE2.fasta | sed -e \"1s/.*/>human/\" > fasta/human.fasta\n",
        "ls -l fasta"
      ],
      "metadata": {
        "id": "vi5lDVMl62ez"
      },
      "execution_count": null,
      "outputs": []
    },
    {
      "cell_type": "code",
      "source": [
        "# Show sequence for one, e.g. drosophila\n",
        "!cat fasta/drome.fasta"
      ],
      "metadata": {
        "id": "urtRJcbp7hju"
      },
      "execution_count": null,
      "outputs": []
    },
    {
      "cell_type": "code",
      "source": [
        "# Use init_input_json() to create an AlphaFold 3 input for a single peptide sequence\n",
        "monomer_example = init_input_json(\"\"\"\n",
        "MSATNDKKVVINKRLKGLSREALEKLTQTELIDKVIQLEAYNFQLRNLLQKKLSEKDKHD\n",
        "KEYSGLIGNEAEGKVSQVAKTSSKVQKIRKFDWSSAHKRHVLLKITYFGWDYQGFACQED\n",
        "SNDTIESNLFRALARTCLIESRATSNYHRCGRTDKEVSAFCQVISIDLRSKHPPESQLDP\n",
        "TALSSEIDYCGLLNRVLPKNIQCVAWMPLRSPVYSARFDCVSRTYRYYFPKGDLDIAAMR\n",
        "KACDLLVRHADFRNFCKMDVHNGVTNYMRNLQSARVEACDQTNHTNSGYDMYYLEIQANA\n",
        "FLWHQIRCIMAVLLLVGQKKENPGVISDLLDVESNPCKPQYTPAIGLPLNLFRCDFRDHT\n",
        "TRSVNHPSSGDADEEAMDTAADESNDLNAPEHLERDLTAWIYNEENLQKLIENTQCEWTQ\n",
        "FSVKSTMIRNVLQQLENLFEENFKPKEKVLAQVILLQDSVNPRQYQPLLERKRCESLENR\n",
        "IEHFVKKQRLIVKNETETE\"\"\".replace('\\n', ''))\n",
        "monomer_example"
      ],
      "metadata": {
        "id": "fSeKJiYt9QWR"
      },
      "execution_count": null,
      "outputs": []
    },
    {
      "cell_type": "code",
      "source": [
        "# Google Colab does not have enough disk space to run the default AlphaFold 3 data pipeline (MSA + template search)\n",
        "# We work around this by using the ColabFold MSA server\n",
        "monomer_example_data = colab_data_pipeline(monomer_example)"
      ],
      "metadata": {
        "id": "tSmyV67i9fHP"
      },
      "execution_count": null,
      "outputs": []
    },
    {
      "cell_type": "code",
      "source": [
        "# AlphaFold 3 data pipeline encodes MSAs in a single json line, the output is unreadable\n",
        "# Try using print_input_json() on the data pipeline output instead\n",
        "monomer_example_data"
      ],
      "metadata": {
        "id": "D_NPN4LJ-bCC"
      },
      "execution_count": null,
      "outputs": []
    },
    {
      "cell_type": "code",
      "source": [
        "# AlphaFold 3 uses the name field in the input .json to generate the output file name\n",
        "monomer_example_data['name'] = 'drome'\n",
        "write_input_json(monomer_example_data, 'monomer_input/{}.json')\n",
        "!ls -l monomer_input/"
      ],
      "metadata": {
        "id": "xC3eDeEF-dkl"
      },
      "execution_count": null,
      "outputs": []
    },
    {
      "cell_type": "code",
      "source": [
        "# run_alphafold3_autogpu.sh runs the structure prediction step with settings adjusted for the available GPU\n",
        "# --norun_data_pipeline turns off the default MSA/template search (as we're using the ColabFold MSA server)\n",
        "%%shell\n",
        "source /alphafold3_venv/bin/activate\n",
        "/app/alphafold/run_alphafold3_autogpu.sh \\\n",
        "  --input_dir=/content/monomer_input \\\n",
        "  --output_dir=/content/monomer_output \\\n",
        "  --norun_data_pipeline"
      ],
      "metadata": {
        "id": "nltCDPS1BrPv"
      },
      "execution_count": null,
      "outputs": []
    },
    {
      "cell_type": "code",
      "source": [
        "# Results from the prediction step should now appear under:\n",
        "!ls -l /content/monomer_output/monomer_example"
      ],
      "metadata": {
        "id": "PxS7sJJsCOpZ"
      },
      "execution_count": null,
      "outputs": []
    },
    {
      "cell_type": "markdown",
      "source": [
        "# Mouse-human dimer"
      ],
      "metadata": {
        "id": "-7oYqHtRDqK7"
      }
    },
    {
      "cell_type": "code",
      "source": [
        "# As an example pair, let's look up the sequences for mouse and human\n",
        "!cat fasta/mouse.fasta\n",
        "!cat fasta/human.fasta"
      ],
      "metadata": {
        "id": "w2HpVr_wDzQ6"
      },
      "execution_count": null,
      "outputs": []
    },
    {
      "cell_type": "code",
      "source": [
        "# init_input_json() can handle multiple sequences as input\n",
        "mouse_human = init_input_json(\n",
        "    ❓\n",
        ")\n",
        "mouse_human"
      ],
      "metadata": {
        "id": "gFbsIiHIDres"
      },
      "execution_count": null,
      "outputs": []
    },
    {
      "cell_type": "code",
      "source": [
        "# Use colab_data_pipeline() as previously to perform the MSA search\n",
        "mouse_human_data = ❓"
      ],
      "metadata": {
        "id": "kWJm4S9nEXKX"
      },
      "execution_count": null,
      "outputs": []
    },
    {
      "cell_type": "code",
      "source": [
        "# Set the name attribute & write the mouse-human pair to pairs_input/:\n",
        "mouse_human_data['name'] = ❓\n",
        "write_input_json(❓)\n",
        "!ls -l pairs_input/"
      ],
      "metadata": {
        "id": "ZKZA3CyKEn4g"
      },
      "execution_count": null,
      "outputs": []
    },
    {
      "cell_type": "code",
      "source": [
        "# Run AlphaFold 3 on pairs_input/ as above\n",
        "%%shell\n",
        "source /alphafold3_venv/bin/activate\n",
        "/app/alphafold/run_alphafold3_autogpu.sh \\\n",
        "  --input_dir=❓ \\\n",
        "  --output_dir=❓ \\\n",
        "  --norun_data_pipeline"
      ],
      "metadata": {
        "id": "rAz-C1HnFBxu"
      },
      "execution_count": null,
      "outputs": []
    },
    {
      "cell_type": "code",
      "source": [
        "# Show output with the confidence metrics\n",
        "!cat pairs_output/mouse_human/mouse_human_summary_confidences.json"
      ],
      "metadata": {
        "id": "j8wjUtO1FL4b"
      },
      "execution_count": null,
      "outputs": []
    },
    {
      "cell_type": "code",
      "source": [
        "# Show matrix of interaction-level ipTM confidence metrics:\n",
        "with open('pairs_output/mouse_human/mouse_human_summary_confidences.json') as fh:\n",
        "  summary_confidences = json.load(fh)\n",
        "print(np.matrix(summary_confidences['chain_pair_iptm']))"
      ],
      "metadata": {
        "id": "7VHHKCb1GB9c"
      },
      "execution_count": null,
      "outputs": []
    },
    {
      "cell_type": "markdown",
      "source": [
        "# 1x3 pool"
      ],
      "metadata": {
        "id": "egI4xVb1JWzQ"
      }
    },
    {
      "cell_type": "code",
      "source": [
        "# Due to time constraints, we'll run one \"1x3\" pool, e.g. pyrfu-pyrfu-ecoli-yeast:\n",
        "!cat fasta/pyrfu.fasta\n",
        "!cat fasta/pyrfu.fasta\n",
        "!cat fasta/ecoli.fasta\n",
        "!cat fasta/yeast.fasta"
      ],
      "metadata": {
        "id": "JKikGDoSJdF4"
      },
      "execution_count": null,
      "outputs": []
    },
    {
      "cell_type": "code",
      "source": [
        "# init_input_json() can handle multiple sequences as input\n",
        "pyrfu_pyrfu_ecoli_yeast = init_input_json(\n",
        "    ❓\n",
        ")\n",
        "pyrfu_pyrfu_ecoli_yeast"
      ],
      "metadata": {
        "id": "mdfn6pVaKbaR"
      },
      "execution_count": null,
      "outputs": []
    },
    {
      "cell_type": "code",
      "source": [
        "# Use colab_data_pipeline() as previously to attach the MSAs\n",
        "pyrfu_pyrfu_ecoli_yeast_data = ❓"
      ],
      "metadata": {
        "id": "SUfcmAJlK3jU"
      },
      "execution_count": null,
      "outputs": []
    },
    {
      "cell_type": "code",
      "source": [
        "# Set the name attribute & write the pool to pools_input/:\n",
        "❓"
      ],
      "metadata": {
        "id": "066kqEq7K6uz"
      },
      "execution_count": null,
      "outputs": []
    },
    {
      "cell_type": "code",
      "source": [
        "# Run AlphaFold 3 on pools_input/\n",
        "❓"
      ],
      "metadata": {
        "id": "aTEEjhkaLJHP"
      },
      "execution_count": null,
      "outputs": []
    },
    {
      "cell_type": "code",
      "source": [
        "# Show matrix of interaction-level ipTM confidence metrics\n",
        "❓"
      ],
      "metadata": {
        "id": "1x_kcATuLWFQ"
      },
      "execution_count": null,
      "outputs": []
    }
  ]
}