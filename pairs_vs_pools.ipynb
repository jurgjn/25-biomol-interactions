{
  "nbformat": 4,
  "nbformat_minor": 0,
  "metadata": {
    "colab": {
      "provenance": [],
      "gpuType": "A100"
    },
    "kernelspec": {
      "name": "python3",
      "display_name": "Python 3"
    },
    "language_info": {
      "name": "python"
    },
    "accelerator": "GPU"
  },
  "cells": [
    {
      "cell_type": "markdown",
      "source": [
        "# Setup\n",
        "- Install alphafold3, colabfold\n",
        "- Copy model weights from Google Drive (adjust path & give permission when asked)"
      ],
      "metadata": {
        "id": "vOpvGmvd55KF"
      }
    },
    {
      "cell_type": "code",
      "source": [
        "%%shell\n",
        "pip install alphafold3-polymer-bonds\n",
        "ALPHAFOLD3_VERSION=\"2e2ffc1⁠\"\n",
        "source <(curl -fsSL https://raw.githubusercontent.com/jurgjn/alphafold3-polymer-bonds/refs/heads/main/colab/install)"
      ],
      "metadata": {
        "id": "aBWLk3NgXnwa",
        "outputId": "f2c3a6a4-6fbb-4961-8a1f-ea42cd88ac0d",
        "colab": {
          "base_uri": "https://localhost:8080/"
        }
      },
      "execution_count": 1,
      "outputs": [
        {
          "output_type": "stream",
          "name": "stdout",
          "text": [
            "Collecting alphafold3-polymer-bonds\n",
            "  Downloading alphafold3_polymer_bonds-0.3-py3-none-any.whl.metadata (2.1 kB)\n",
            "Collecting biopython (from alphafold3-polymer-bonds)\n",
            "  Downloading biopython-1.85-cp312-cp312-manylinux_2_17_x86_64.manylinux2014_x86_64.whl.metadata (13 kB)\n",
            "Collecting humanfriendly (from alphafold3-polymer-bonds)\n",
            "  Downloading humanfriendly-10.0-py2.py3-none-any.whl.metadata (9.2 kB)\n",
            "Requirement already satisfied: pandas in /usr/local/lib/python3.12/dist-packages (from alphafold3-polymer-bonds) (2.2.2)\n",
            "Collecting py3dmol (from alphafold3-polymer-bonds)\n",
            "  Downloading py3dmol-2.5.3-py2.py3-none-any.whl.metadata (2.1 kB)\n",
            "Requirement already satisfied: numpy in /usr/local/lib/python3.12/dist-packages (from biopython->alphafold3-polymer-bonds) (2.0.2)\n",
            "Requirement already satisfied: python-dateutil>=2.8.2 in /usr/local/lib/python3.12/dist-packages (from pandas->alphafold3-polymer-bonds) (2.9.0.post0)\n",
            "Requirement already satisfied: pytz>=2020.1 in /usr/local/lib/python3.12/dist-packages (from pandas->alphafold3-polymer-bonds) (2025.2)\n",
            "Requirement already satisfied: tzdata>=2022.7 in /usr/local/lib/python3.12/dist-packages (from pandas->alphafold3-polymer-bonds) (2025.2)\n",
            "Requirement already satisfied: six>=1.5 in /usr/local/lib/python3.12/dist-packages (from python-dateutil>=2.8.2->pandas->alphafold3-polymer-bonds) (1.17.0)\n",
            "Downloading alphafold3_polymer_bonds-0.3-py3-none-any.whl (39 kB)\n",
            "Downloading biopython-1.85-cp312-cp312-manylinux_2_17_x86_64.manylinux2014_x86_64.whl (3.3 MB)\n",
            "\u001b[2K   \u001b[90m━━━━━━━━━━━━━━━━━━━━━━━━━━━━━━━━━━━━━━━━\u001b[0m \u001b[32m3.3/3.3 MB\u001b[0m \u001b[31m46.5 MB/s\u001b[0m eta \u001b[36m0:00:00\u001b[0m\n",
            "\u001b[?25hDownloading humanfriendly-10.0-py2.py3-none-any.whl (86 kB)\n",
            "\u001b[2K   \u001b[90m━━━━━━━━━━━━━━━━━━━━━━━━━━━━━━━━━━━━━━━━\u001b[0m \u001b[32m86.8/86.8 kB\u001b[0m \u001b[31m9.6 MB/s\u001b[0m eta \u001b[36m0:00:00\u001b[0m\n",
            "\u001b[?25hDownloading py3dmol-2.5.3-py2.py3-none-any.whl (7.2 kB)\n",
            "Installing collected packages: py3dmol, humanfriendly, biopython, alphafold3-polymer-bonds\n",
            "Successfully installed alphafold3-polymer-bonds-0.3 biopython-1.85 humanfriendly-10.0 py3dmol-2.5.3\n",
            "Installing alphafold3 2e2ffc1⁠\n",
            "Installing colabfold\n",
            "Downloading run script to /app/alphafold\n"
          ]
        },
        {
          "output_type": "execute_result",
          "data": {
            "text/plain": []
          },
          "metadata": {},
          "execution_count": 1
        }
      ]
    },
    {
      "cell_type": "code",
      "source": [
        "# Copy weights from Google Drive to the default location at /root/models/af3.bin.zst\n",
        "from google.colab import drive\n",
        "drive.mount('/mnt/gdrive')\n",
        "!mkdir -p /root/models/\n",
        "!cp /mnt/gdrive/MyDrive/alphafold3/models/af3.bin.zst /root/models/af3.bin.zst\n",
        "!md5sum /root/models/af3.bin.zst\n",
        "drive.flush_and_unmount()"
      ],
      "metadata": {
        "id": "nHPPBBAS54lT",
        "outputId": "c06de6f7-e4d7-4d27-8b90-3cb5d094f925",
        "colab": {
          "base_uri": "https://localhost:8080/"
        }
      },
      "execution_count": 2,
      "outputs": [
        {
          "output_type": "stream",
          "name": "stdout",
          "text": [
            "Mounted at /mnt/gdrive\n",
            "ea076e2d05168d66a3d9a3fa62e029d0  /root/models/af3.bin.zst\n"
          ]
        }
      ]
    },
    {
      "cell_type": "code",
      "source": [
        "# Standard imports\n",
        "import argparse, collections, copy, gzip, json, os, os.path, re, string, sys\n",
        "import numpy as np\n",
        "# Helper functions for manipulating AlphaFold 3 input jsons: https://github.com/google-deepmind/alphafold3/blob/main/docs/input.md\n",
        "from alphafold3_polymer_bonds.alphafold3_io import colab_data_pipeline, init_input_json, read_input_json, print_input_json, write_input_json"
      ],
      "metadata": {
        "id": "MYYwEjxQ6VDi"
      },
      "execution_count": 3,
      "outputs": []
    },
    {
      "cell_type": "markdown",
      "source": [
        "# Running inference on a single monomer"
      ],
      "metadata": {
        "id": "0mlq5qz86c53"
      }
    },
    {
      "cell_type": "code",
      "source": [
        "# Download sequences for a selection of species\n",
        "%%shell\n",
        "mkdir -p fasta\n",
        "curl -fsSL https://rest.uniprot.org/uniprotkb/Q8U2C1.fasta | sed -e \"1s/.*/>pyrfu/\" > fasta/pyrfu.fasta\n",
        "curl -fsSL https://rest.uniprot.org/uniprotkb/P65845.fasta | sed -e \"1s/.*/>ecoli/\" > fasta/ecoli.fasta\n",
        "curl -fsSL https://rest.uniprot.org/uniprotkb/P31115.fasta | sed -e \"1s/.*/>yeast/\" > fasta/yeast.fasta\n",
        "curl -fsSL https://rest.uniprot.org/uniprotkb/Q09524.fasta | sed -e \"1s/.*/>caeel/\" > fasta/caeel.fasta\n",
        "curl -fsSL https://rest.uniprot.org/uniprotkb/Q9W282.fasta | sed -e \"1s/.*/>drome/\" > fasta/drome.fasta\n",
        "curl -fsSL https://rest.uniprot.org/uniprotkb/Q6P815.fasta | sed -e \"1s/.*/>xentr/\" > fasta/xentr.fasta\n",
        "curl -fsSL https://rest.uniprot.org/uniprotkb/Q7ZW97.fasta | sed -e \"1s/.*/>danre/\" > fasta/danre.fasta\n",
        "curl -fsSL https://rest.uniprot.org/uniprotkb/Q9JI38.fasta | sed -e \"1s/.*/>mouse/\" > fasta/mouse.fasta\n",
        "curl -fsSL https://rest.uniprot.org/uniprotkb/Q9BZE2.fasta | sed -e \"1s/.*/>human/\" > fasta/human.fasta\n",
        "ls -l fasta"
      ],
      "metadata": {
        "id": "vi5lDVMl62ez",
        "outputId": "82f19a75-f608-4084-8d80-608ba4fdd438",
        "colab": {
          "base_uri": "https://localhost:8080/"
        }
      },
      "execution_count": 6,
      "outputs": [
        {
          "output_type": "stream",
          "name": "stdout",
          "text": [
            "total 36\n",
            "-rw-r--r-- 1 root root 416 Oct  1 12:13 caeel.fasta\n",
            "-rw-r--r-- 1 root root 475 Oct  1 12:13 danre.fasta\n",
            "-rw-r--r-- 1 root root 515 Oct  1 12:13 drome.fasta\n",
            "-rw-r--r-- 1 root root 282 Oct  1 12:13 ecoli.fasta\n",
            "-rw-r--r-- 1 root root 497 Oct  1 12:13 human.fasta\n",
            "-rw-r--r-- 1 root root 497 Oct  1 12:13 mouse.fasta\n",
            "-rw-r--r-- 1 root root 278 Oct  1 12:13 pyrfu.fasta\n",
            "-rw-r--r-- 1 root root 521 Oct  1 12:13 xentr.fasta\n",
            "-rw-r--r-- 1 root root 457 Oct  1 12:13 yeast.fasta\n"
          ]
        },
        {
          "output_type": "execute_result",
          "data": {
            "text/plain": []
          },
          "metadata": {},
          "execution_count": 6
        }
      ]
    },
    {
      "cell_type": "code",
      "source": [
        "# Show sequence for one, e.g. drosophila\n",
        "!cat fasta/drome.fasta"
      ],
      "metadata": {
        "id": "urtRJcbp7hju"
      },
      "execution_count": null,
      "outputs": []
    },
    {
      "cell_type": "code",
      "source": [
        "# Use init_input_json() to create an AlphaFold 3 input for a single peptide sequence\n",
        "monomer_example = init_input_json(\"\"\"\n",
        "MSATNDKKVVINKRLKGLSREALEKLTQTELIDKVIQLEAYNFQLRNLLQKKLSEKDKHD\n",
        "KEYSGLIGNEAEGKVSQVAKTSSKVQKIRKFDWSSAHKRHVLLKITYFGWDYQGFACQED\n",
        "SNDTIESNLFRALARTCLIESRATSNYHRCGRTDKEVSAFCQVISIDLRSKHPPESQLDP\n",
        "TALSSEIDYCGLLNRVLPKNIQCVAWMPLRSPVYSARFDCVSRTYRYYFPKGDLDIAAMR\n",
        "KACDLLVRHADFRNFCKMDVHNGVTNYMRNLQSARVEACDQTNHTNSGYDMYYLEIQANA\n",
        "FLWHQIRCIMAVLLLVGQKKENPGVISDLLDVESNPCKPQYTPAIGLPLNLFRCDFRDHT\n",
        "TRSVNHPSSGDADEEAMDTAADESNDLNAPEHLERDLTAWIYNEENLQKLIENTQCEWTQ\n",
        "FSVKSTMIRNVLQQLENLFEENFKPKEKVLAQVILLQDSVNPRQYQPLLERKRCESLENR\n",
        "IEHFVKKQRLIVKNETETE\"\"\".replace('\\n', ''))\n",
        "monomer_example"
      ],
      "metadata": {
        "id": "fSeKJiYt9QWR"
      },
      "execution_count": null,
      "outputs": []
    },
    {
      "cell_type": "code",
      "source": [
        "# Google Colab does not have enough disk space to run the default AlphaFold 3 data pipeline (MSA + template search)\n",
        "# We work around this by using the ColabFold MSA server\n",
        "monomer_example_data = colab_data_pipeline(monomer_example)"
      ],
      "metadata": {
        "id": "tSmyV67i9fHP"
      },
      "execution_count": null,
      "outputs": []
    },
    {
      "cell_type": "code",
      "source": [
        "# AlphaFold 3 data pipeline encodes MSAs in a single json line, the output is unreadable\n",
        "# Try using print_input_json() on the data pipeline output instead\n",
        "monomer_example_data"
      ],
      "metadata": {
        "id": "D_NPN4LJ-bCC"
      },
      "execution_count": null,
      "outputs": []
    },
    {
      "cell_type": "code",
      "source": [
        "# AlphaFold 3 uses the name field in the input .json to generate the output file name\n",
        "monomer_example_data['name'] = 'drome'\n",
        "write_input_json(monomer_example_data, 'monomer_input/{}.json')\n",
        "!ls -l monomer_input/"
      ],
      "metadata": {
        "id": "xC3eDeEF-dkl"
      },
      "execution_count": null,
      "outputs": []
    },
    {
      "cell_type": "code",
      "source": [
        "# run_alphafold3_autogpu.sh runs the structure prediction step with settings adjusted for the available GPU\n",
        "# --norun_data_pipeline turns off the default MSA/template search (as we're using the ColabFold MSA server)\n",
        "%%shell\n",
        "source /alphafold3_venv/bin/activate\n",
        "/app/alphafold/run_alphafold3_autogpu.sh \\\n",
        "  --input_dir=/content/monomer_input \\\n",
        "  --output_dir=/content/monomer_output \\\n",
        "  --norun_data_pipeline"
      ],
      "metadata": {
        "id": "nltCDPS1BrPv"
      },
      "execution_count": null,
      "outputs": []
    },
    {
      "cell_type": "code",
      "source": [
        "# Results from the prediction step should now appear under:\n",
        "!ls -l /content/monomer_output/monomer_example"
      ],
      "metadata": {
        "id": "PxS7sJJsCOpZ"
      },
      "execution_count": null,
      "outputs": []
    },
    {
      "cell_type": "markdown",
      "source": [
        "# Mouse-human dimer"
      ],
      "metadata": {
        "id": "-7oYqHtRDqK7"
      }
    },
    {
      "cell_type": "code",
      "source": [
        "# As an example pair, let's look up the sequences for mouse and human\n",
        "!cat fasta/mouse.fasta\n",
        "!cat fasta/yeast.fasta"
      ],
      "metadata": {
        "id": "w2HpVr_wDzQ6",
        "outputId": "5aef3373-4eac-4fee-fbb1-d64c54b98662",
        "colab": {
          "base_uri": "https://localhost:8080/"
        }
      },
      "execution_count": 7,
      "outputs": [
        {
          "output_type": "stream",
          "name": "stdout",
          "text": [
            ">mouse\n",
            "MAENTDRNQIEKLLNRVKELEQEVERLKKKKEQANNIKDSSIRENSLGSGKAKRAFDFSA\n",
            "HGRRHVALKIAYLGWGYQGFASQENTSNTIEEKLFEALTKTRLVESRQTSNYHRCGRTDK\n",
            "GVSAFGQVISLDLRSQFPTSRDSEDSNLKHEADDLAKEIRYTHILNRVLPADIRVLAWAP\n",
            "VEPSFSARFSCLERTYRYFFPRADLDIATMNYAAQKYVGTHDFRNLCKMDVANGVINFQR\n",
            "TILCAQVQLVAQSPGEERRQEPFQLCQFEVIGQAFLYHQVRCMMAILFLIGQGMEKPEII\n",
            "DELLNIQKNPQKPQYSMAVEFPLVLYDCKFENTKWIYDHEVQEFNVTHLQQLWANHAVKT\n",
            "HMLYSMLQGLDSVMVTCAAGTKMDEATEWRNIQPPVIKHTSAFVEGVKMRTYKPLMDRPK\n",
            "CQGLESRIRHFVSRGRIEHPHLLHKEEIKARRDCADKEENTVVENPSKRVCIIDAEINSI\n",
            "A\n",
            ">yeast\n",
            "MSNFIRRLVGKMKAISTGTNAIVSKKDSIYANWSKEQLIRRITELENANKPHSEKFQHIE\n",
            "DNKKRKISQEEVTRSKAKKAPKKFDFSKHNTRFIALRFAYLGWNYNGLAVQKEYTPLPTV\n",
            "EGTILEAMNKCKLVPSMVLQDYKFSRCGRTDKGVSAMNQVISLEVRSNLTDEEQRDPTND\n",
            "SREIPYVHVLNQLLPDDIRISAVCLRPPPNFDARFSCVHRHYKYIFNGKNLNIEKMSKAA\n",
            "SYFVGERDFRNFCKLDGSKQITNFKRTIISSKILPLSETFYCFDLVGSAFLWHQVRCMMA\n",
            "ILFLVGQSLEVPEIVLRLTDIEKTPQRPVYEMANDIPLLLYDCKFPEMDWQEPTVDDYKA\n",
            "IKFTTATEALTLHYELKAAVCNIFKDVLPTANTNNFSKTIINLGDGRGKVVGTYVKLEDR\n",
            "SVMEPVEVVNAKYSKKKNNKNK\n"
          ]
        }
      ]
    },
    {
      "cell_type": "code",
      "source": [
        "# init_input_json() can handle multiple sequences as input\n",
        "mouse_yeast = init_input_json(\n",
        "\"\"\"\n",
        "MAENTDRNQIEKLLNRVKELEQEVERLKKKKEQANNIKDSSIRENSLGSGKAKRAFDFSA\n",
        "HGRRHVALKIAYLGWGYQGFASQENTSNTIEEKLFEALTKTRLVESRQTSNYHRCGRTDK\n",
        "GVSAFGQVISLDLRSQFPTSRDSEDSNLKHEADDLAKEIRYTHILNRVLPADIRVLAWAP\n",
        "VEPSFSARFSCLERTYRYFFPRADLDIATMNYAAQKYVGTHDFRNLCKMDVANGVINFQR\n",
        "TILCAQVQLVAQSPGEERRQEPFQLCQFEVIGQAFLYHQVRCMMAILFLIGQGMEKPEII\n",
        "DELLNIQKNPQKPQYSMAVEFPLVLYDCKFENTKWIYDHEVQEFNVTHLQQLWANHAVKT\n",
        "HMLYSMLQGLDSVMVTCAAGTKMDEATEWRNIQPPVIKHTSAFVEGVKMRTYKPLMDRPK\n",
        "CQGLESRIRHFVSRGRIEHPHLLHKEEIKARRDCADKEENTVVENPSKRVCIIDAEINSI\n",
        "A\"\"\".replace('\\n', ''),\n",
        "\"\"\"\n",
        "MSNFIRRLVGKMKAISTGTNAIVSKKDSIYANWSKEQLIRRITELENANKPHSEKFQHIE\n",
        "DNKKRKISQEEVTRSKAKKAPKKFDFSKHNTRFIALRFAYLGWNYNGLAVQKEYTPLPTV\n",
        "EGTILEAMNKCKLVPSMVLQDYKFSRCGRTDKGVSAMNQVISLEVRSNLTDEEQRDPTND\n",
        "SREIPYVHVLNQLLPDDIRISAVCLRPPPNFDARFSCVHRHYKYIFNGKNLNIEKMSKAA\n",
        "SYFVGERDFRNFCKLDGSKQITNFKRTIISSKILPLSETFYCFDLVGSAFLWHQVRCMMA\n",
        "ILFLVGQSLEVPEIVLRLTDIEKTPQRPVYEMANDIPLLLYDCKFPEMDWQEPTVDDYKA\n",
        "IKFTTATEALTLHYELKAAVCNIFKDVLPTANTNNFSKTIINLGDGRGKVVGTYVKLEDR\n",
        "SVMEPVEVVNAKYSKKKNNKNK\"\"\".replace('\\n', ''),\n",
        ")\n",
        "mouse_yeast"
      ],
      "metadata": {
        "id": "gFbsIiHIDres",
        "outputId": "0fc355c6-c43b-4b10-f95d-2c3e6fe2fdff",
        "colab": {
          "base_uri": "https://localhost:8080/"
        }
      },
      "execution_count": 8,
      "outputs": [
        {
          "output_type": "execute_result",
          "data": {
            "text/plain": [
              "OrderedDict([('dialect', 'alphafold3'),\n",
              "             ('version', 2),\n",
              "             ('name', 'name'),\n",
              "             ('sequences',\n",
              "              [OrderedDict([('protein',\n",
              "                             OrderedDict([('id', 'A'),\n",
              "                                          ('sequence',\n",
              "                                           'MAENTDRNQIEKLLNRVKELEQEVERLKKKKEQANNIKDSSIRENSLGSGKAKRAFDFSAHGRRHVALKIAYLGWGYQGFASQENTSNTIEEKLFEALTKTRLVESRQTSNYHRCGRTDKGVSAFGQVISLDLRSQFPTSRDSEDSNLKHEADDLAKEIRYTHILNRVLPADIRVLAWAPVEPSFSARFSCLERTYRYFFPRADLDIATMNYAAQKYVGTHDFRNLCKMDVANGVINFQRTILCAQVQLVAQSPGEERRQEPFQLCQFEVIGQAFLYHQVRCMMAILFLIGQGMEKPEIIDELLNIQKNPQKPQYSMAVEFPLVLYDCKFENTKWIYDHEVQEFNVTHLQQLWANHAVKTHMLYSMLQGLDSVMVTCAAGTKMDEATEWRNIQPPVIKHTSAFVEGVKMRTYKPLMDRPKCQGLESRIRHFVSRGRIEHPHLLHKEEIKARRDCADKEENTVVENPSKRVCIIDAEINSIA')]))]),\n",
              "               OrderedDict([('protein',\n",
              "                             OrderedDict([('id', 'B'),\n",
              "                                          ('sequence',\n",
              "                                           'MSNFIRRLVGKMKAISTGTNAIVSKKDSIYANWSKEQLIRRITELENANKPHSEKFQHIEDNKKRKISQEEVTRSKAKKAPKKFDFSKHNTRFIALRFAYLGWNYNGLAVQKEYTPLPTVEGTILEAMNKCKLVPSMVLQDYKFSRCGRTDKGVSAMNQVISLEVRSNLTDEEQRDPTNDSREIPYVHVLNQLLPDDIRISAVCLRPPPNFDARFSCVHRHYKYIFNGKNLNIEKMSKAASYFVGERDFRNFCKLDGSKQITNFKRTIISSKILPLSETFYCFDLVGSAFLWHQVRCMMAILFLVGQSLEVPEIVLRLTDIEKTPQRPVYEMANDIPLLLYDCKFPEMDWQEPTVDDYKAIKFTTATEALTLHYELKAAVCNIFKDVLPTANTNNFSKTIINLGDGRGKVVGTYVKLEDRSVMEPVEVVNAKYSKKKNNKNK')]))])]),\n",
              "             ('modelSeeds', [1]),\n",
              "             ('bondedAtomPairs', None),\n",
              "             ('userCCD', None)])"
            ]
          },
          "metadata": {},
          "execution_count": 8
        }
      ]
    },
    {
      "cell_type": "code",
      "source": [
        "# Use colab_data_pipeline() as previously to perform the MSA search\n",
        "mouse_yeast_data = colab_data_pipeline(mouse_yeast)\n",
        "print_input_json(mouse_yeast_data)"
      ],
      "metadata": {
        "id": "kWJm4S9nEXKX",
        "outputId": "b0d8b7a0-6bf0-47b6-8c1c-afc99a286f45",
        "colab": {
          "base_uri": "https://localhost:8080/"
        }
      },
      "execution_count": 9,
      "outputs": [
        {
          "output_type": "stream",
          "name": "stdout",
          "text": [
            "MPLBACKEND=AGG; source /colabfold_venv/bin/activate; colabfold_batch --msa-only --af3-json /tmp/_get_colabfold_msa/input/a98410a49055e01aecca6b9f9deccd9c8a040b79.fasta /tmp/_get_colabfold_msa/output\n",
            "MPLBACKEND=AGG; source /colabfold_venv/bin/activate; colabfold_batch --msa-only --af3-json /tmp/_get_colabfold_msa/input/87f937a9a60901bd5e6a9eba0437b9b1ff6e3948.fasta /tmp/_get_colabfold_msa/output\n",
            "{\n",
            "  \"dialect\": \"alphafold3\",\n",
            "  \"version\": 2,\n",
            "  \"name\": \"name\",\n",
            "  \"sequences\": [\n",
            "    {\n",
            "      \"protein\": {\n",
            "        \"id\": \"A\",\n",
            "        \"sequence\": \"MAENTDRNQIEKLLNRVKELEQEVERLKKKKEQANNIKDSSIRENSLGSGKAKRAFDFSAHGRRHVALKIAYLGWGYQGFASQENTSNTIEEKLFEALTKTRLVESRQTSNYHRCGRTDKGVSAFGQVISLDLRSQFPTSRDSEDSNLKHEADDLAKEIRYTHILNRVLPADIRVLAWAPVEPSFSARFSCLERTYRYFFPRADLDIATMNYAAQKYVGTHDFRNLCKMDVANGVINFQRTILCAQVQLVAQSPGEERRQEPFQLCQFEVIGQAFLYHQVRCMMAILFLIGQGMEKPEIIDELLNIQKNPQKPQYSMAVEFPLVLYDCKFENTKWIYDHEVQEFNVTHLQQLWANHAVKTHMLYSMLQGLDSVMVTCAAGTKMDEATEWRNIQPPVIKHTSAFVEGVKMRTYKPLMDRPKCQGLESRIRHFVSRGRIEHPHLLHKEEIKARRDCADKEENTVVENPSKRVCIIDAEINSIA\",\n",
            "        \"templates\": [],\n",
            "        \"unpairedMsa\": \"<4.48 MB string>\",\n",
            "        \"pairedMsa\": \"\"\n",
            "      }\n",
            "    },\n",
            "    {\n",
            "      \"protein\": {\n",
            "        \"id\": \"B\",\n",
            "        \"sequence\": \"MSNFIRRLVGKMKAISTGTNAIVSKKDSIYANWSKEQLIRRITELENANKPHSEKFQHIEDNKKRKISQEEVTRSKAKKAPKKFDFSKHNTRFIALRFAYLGWNYNGLAVQKEYTPLPTVEGTILEAMNKCKLVPSMVLQDYKFSRCGRTDKGVSAMNQVISLEVRSNLTDEEQRDPTNDSREIPYVHVLNQLLPDDIRISAVCLRPPPNFDARFSCVHRHYKYIFNGKNLNIEKMSKAASYFVGERDFRNFCKLDGSKQITNFKRTIISSKILPLSETFYCFDLVGSAFLWHQVRCMMAILFLVGQSLEVPEIVLRLTDIEKTPQRPVYEMANDIPLLLYDCKFPEMDWQEPTVDDYKAIKFTTATEALTLHYELKAAVCNIFKDVLPTANTNNFSKTIINLGDGRGKVVGTYVKLEDRSVMEPVEVVNAKYSKKKNNKNK\",\n",
            "        \"templates\": [],\n",
            "        \"unpairedMsa\": \"<3.29 MB string>\",\n",
            "        \"pairedMsa\": \"\"\n",
            "      }\n",
            "    }\n",
            "  ],\n",
            "  \"modelSeeds\": [\n",
            "    1\n",
            "  ],\n",
            "  \"bondedAtomPairs\": null,\n",
            "  \"userCCD\": null\n",
            "}\n"
          ]
        }
      ]
    },
    {
      "cell_type": "code",
      "source": [
        "# Set the name attribute & write the mouse-human pair to pairs_input/:\n",
        "mouse_yeast_data['name'] = 'mouse_yeast'\n",
        "write_input_json(mouse_yeast_data, 'pairs_input/{}.json')\n",
        "!ls -l pairs_input/"
      ],
      "metadata": {
        "id": "ZKZA3CyKEn4g",
        "outputId": "eeb2c09a-addc-4d01-9648-4b9cdde75fa0",
        "colab": {
          "base_uri": "https://localhost:8080/"
        }
      },
      "execution_count": 10,
      "outputs": [
        {
          "output_type": "stream",
          "name": "stdout",
          "text": [
            "total 4\n",
            "-rw-r--r-- 1 root root 1439 Oct  1 12:15 mouse_yeast.json\n"
          ]
        }
      ]
    },
    {
      "cell_type": "code",
      "source": [
        "# Run AlphaFold 3 on pairs_input/ as above\n",
        "%%shell\n",
        "source /alphafold3_venv/bin/activate\n",
        "/app/alphafold/run_alphafold3_autogpu.sh \\\n",
        "  --input_dir=/content/pairs_input/ \\\n",
        "  --output_dir=/content/pairs_output/ \\\n",
        "  --norun_data_pipeline"
      ],
      "metadata": {
        "id": "rAz-C1HnFBxu",
        "outputId": "dd03d5e2-8417-4929-de60-0a5b6de77bb7",
        "colab": {
          "base_uri": "https://localhost:8080/"
        }
      },
      "execution_count": 12,
      "outputs": [
        {
          "output_type": "stream",
          "name": "stdout",
          "text": [
            "Updated 1 path from the index\n",
            "Using compilation time workaround with XLA flags\n",
            "Using low GPU memory setup (40 GB)\n",
            "Adjusting pair_transition_shard_spec in model_config.py\n",
            "Enabling unified memory\n",
            "Executing run_alphafold.py\n",
            "I1001 12:16:37.637499 139312107823744 xla_bridge.py:895] Unable to initialize backend 'rocm': module 'jaxlib.xla_extension' has no attribute 'GpuAllocatorConfig'\n",
            "I1001 12:16:37.638558 139312107823744 xla_bridge.py:895] Unable to initialize backend 'tpu': INTERNAL: Failed to open libtpu.so: libtpu.so: cannot open shared object file: No such file or directory\n",
            "\n",
            "Running AlphaFold 3. Please note that standard AlphaFold 3 model parameters are\n",
            "only available under terms of use provided at\n",
            "https://github.com/google-deepmind/alphafold3/blob/main/WEIGHTS_TERMS_OF_USE.md.\n",
            "If you do not agree to these terms and are using AlphaFold 3 derived model\n",
            "parameters, cancel execution of AlphaFold 3 inference with CTRL-C, and do not\n",
            "use the model parameters.\n",
            "\n",
            "Found local devices: [CudaDevice(id=0)], using device 0: cuda:0\n",
            "Building model from scratch...\n",
            "Checking that model parameters can be loaded...\n",
            "2025-10-01 12:16:37.676070: W external/xla/xla/service/gpu/nvptx_compiler.cc:930] The NVIDIA driver's CUDA version is 12.4 which is older than the PTX compiler version 12.6.77. Because the driver is older than the PTX compiler version, XLA is disabling parallel compilation, which may slow down compilation. You should update your NVIDIA driver or use the NVIDIA-provided CUDA forward compatibility packages.\n",
            "\n",
            "Running fold job mouse_yeast...\n",
            "Output will be written in /content/pairs_output/mouse_yeast\n",
            "Skipping data pipeline...\n",
            "Writing model input JSON to /content/pairs_output/mouse_yeast/mouse_yeast_data.json\n",
            "Predicting 3D structure for mouse_yeast with 1 seed(s)...\n",
            "Featurising data with 1 seed(s)...\n",
            "Featurising data with seed 1.\n",
            "I1001 12:16:48.467552 139312107823744 pipeline.py:173] processing mouse_yeast, random_seed=1\n",
            "I1001 12:16:48.674215 139312107823744 pipeline.py:266] Calculating bucket size for input with 923 tokens.\n",
            "I1001 12:16:48.674460 139312107823744 pipeline.py:272] Got bucket size 1024 for input with 923 tokens, resulting in 101 padded tokens.\n",
            "Featurising data with seed 1 took 16.29 seconds.\n",
            "Featurising data with 1 seed(s) took 22.42 seconds.\n",
            "Running model inference and extracting output structure samples with 1 seed(s)...\n",
            "Running model inference with seed 1...\n",
            "Running model inference with seed 1 took 114.07 seconds.\n",
            "Extracting inference results with seed 1...\n",
            "Extracting 5 inference samples with seed 1 took 1.67 seconds.\n",
            "Running model inference and extracting output structures with 1 seed(s) took 115.74 seconds.\n",
            "Writing outputs with 1 seed(s)...\n",
            "Fold job mouse_yeast done, output written to /content/pairs_output/mouse_yeast\n",
            "\n",
            "Done running 1 fold jobs.\n"
          ]
        },
        {
          "output_type": "execute_result",
          "data": {
            "text/plain": []
          },
          "metadata": {},
          "execution_count": 12
        }
      ]
    },
    {
      "cell_type": "code",
      "source": [
        "# Show output with the confidence metrics\n",
        "!cat pairs_output/mouse_yeast/mouse_yeast_summary_confidences.json"
      ],
      "metadata": {
        "id": "j8wjUtO1FL4b",
        "outputId": "df64a70e-9183-4297-d3e0-0b465f7b3fdf",
        "colab": {
          "base_uri": "https://localhost:8080/"
        }
      },
      "execution_count": 13,
      "outputs": [
        {
          "output_type": "stream",
          "name": "stdout",
          "text": [
            "{\n",
            " \"chain_iptm\": [\n",
            "  0.15,\n",
            "  0.15\n",
            " ],\n",
            " \"chain_pair_iptm\": [\n",
            "  [\n",
            "   0.19,\n",
            "   0.15\n",
            "  ],\n",
            "  [\n",
            "   0.15,\n",
            "   0.19\n",
            "  ]\n",
            " ],\n",
            " \"chain_pair_pae_min\": [\n",
            "  [\n",
            "   0.76,\n",
            "   7.68\n",
            "  ],\n",
            "  [\n",
            "   7.34,\n",
            "   0.76\n",
            "  ]\n",
            " ],\n",
            " \"chain_ptm\": [\n",
            "  0.19,\n",
            "  0.19\n",
            " ],\n",
            " \"fraction_disordered\": 0.4,\n",
            " \"has_clash\": 0.0,\n",
            " \"iptm\": 0.15,\n",
            " \"ptm\": 0.18,\n",
            " \"ranking_score\": 0.36\n",
            "}"
          ]
        }
      ]
    },
    {
      "cell_type": "code",
      "source": [
        "# Show matrix of interaction-level ipTM confidence metrics:\n",
        "with open('pairs_output/mouse_yeast/mouse_yeast_summary_confidences.json') as fh:\n",
        "  summary_confidences = json.load(fh)\n",
        "print(np.matrix(summary_confidences['chain_pair_iptm']))"
      ],
      "metadata": {
        "id": "7VHHKCb1GB9c",
        "outputId": "87bbb1cc-0bad-4371-d975-9f54c46c8854",
        "colab": {
          "base_uri": "https://localhost:8080/"
        }
      },
      "execution_count": 14,
      "outputs": [
        {
          "output_type": "stream",
          "name": "stdout",
          "text": [
            "[[0.19 0.15]\n",
            " [0.15 0.19]]\n"
          ]
        }
      ]
    },
    {
      "cell_type": "markdown",
      "source": [
        "# 1x3 pool"
      ],
      "metadata": {
        "id": "egI4xVb1JWzQ"
      }
    },
    {
      "cell_type": "code",
      "source": [
        "# Due to time constraints, we'll run one \"1x3\" pool, e.g. pyrfu-pyrfu-ecoli-yeast:\n",
        "!cat fasta/pyrfu.fasta\n",
        "!cat fasta/pyrfu.fasta\n",
        "!cat fasta/yeast.fasta\n",
        "!cat fasta/xentr.fasta"
      ],
      "metadata": {
        "id": "JKikGDoSJdF4",
        "outputId": "3a43a54f-a63d-4261-d589-893f77fcef27",
        "colab": {
          "base_uri": "https://localhost:8080/"
        }
      },
      "execution_count": 15,
      "outputs": [
        {
          "output_type": "stream",
          "name": "stdout",
          "text": [
            ">pyrfu\n",
            "MRVALKIAYDGTKFHGFQRQPNVRTIEGEILRALKDAGIEFENFKSASRTDRGVSARGNV\n",
            "IALSTEDDRIKNPMVLNSRMSDVWIWGIAEVPEDFHPRFWANTKVYRYYLPSLGMNIKKM\n",
            "KECSLLFLGTHDFSAFSRVDGRDTIRSIDRIEIWEKCNVVVVEIEGKSFLWEMVRRIVSA\n",
            "LVLCSQGVLAEERIVEMLNGKFEKSRKVPPAPPEGLLLWDIKYENVEFQIDNASLKKFQR\n",
            "EIVERFKLHASLSALYEDLILNEQKI\n",
            ">pyrfu\n",
            "MRVALKIAYDGTKFHGFQRQPNVRTIEGEILRALKDAGIEFENFKSASRTDRGVSARGNV\n",
            "IALSTEDDRIKNPMVLNSRMSDVWIWGIAEVPEDFHPRFWANTKVYRYYLPSLGMNIKKM\n",
            "KECSLLFLGTHDFSAFSRVDGRDTIRSIDRIEIWEKCNVVVVEIEGKSFLWEMVRRIVSA\n",
            "LVLCSQGVLAEERIVEMLNGKFEKSRKVPPAPPEGLLLWDIKYENVEFQIDNASLKKFQR\n",
            "EIVERFKLHASLSALYEDLILNEQKI\n",
            ">yeast\n",
            "MSNFIRRLVGKMKAISTGTNAIVSKKDSIYANWSKEQLIRRITELENANKPHSEKFQHIE\n",
            "DNKKRKISQEEVTRSKAKKAPKKFDFSKHNTRFIALRFAYLGWNYNGLAVQKEYTPLPTV\n",
            "EGTILEAMNKCKLVPSMVLQDYKFSRCGRTDKGVSAMNQVISLEVRSNLTDEEQRDPTND\n",
            "SREIPYVHVLNQLLPDDIRISAVCLRPPPNFDARFSCVHRHYKYIFNGKNLNIEKMSKAA\n",
            "SYFVGERDFRNFCKLDGSKQITNFKRTIISSKILPLSETFYCFDLVGSAFLWHQVRCMMA\n",
            "ILFLVGQSLEVPEIVLRLTDIEKTPQRPVYEMANDIPLLLYDCKFPEMDWQEPTVDDYKA\n",
            "IKFTTATEALTLHYELKAAVCNIFKDVLPTANTNNFSKTIINLGDGRGKVVGTYVKLEDR\n",
            "SVMEPVEVVNAKYSKKKNNKNK\n",
            ">xentr\n",
            "MSQEDEVTQLRQRVRELEDKVLRLEEQCRGEAPPQGVVQGPSHTKQKQRLQRAFDFSAHP\n",
            "KQHVALRLAYLGWGYQGFASQENTKNTVEETVFNALIKTRLVESRQTSNYHRCGRTDRGV\n",
            "SALGQVISLDLRCSGEGKPEIRYVHILNRVLPPDIRVLSWAAVPPSFSARFSCRSRTYRY\n",
            "LFPCAQLDVEAMDKAARLLEGTHDFRNLCKMDVANGVMNFIRTVLSARVEPVPEIPGDMG\n",
            "PFQLYRLQITGLAFLYHQVRCIMGVLFLVGQGKEKPEVITELLDVAKNPRKPQYNMAVEF\n",
            "PLVLYNCHFDDVQWVSEKEAQSLTVSHLQRLWTQEAVKTQILFMAIGGLDYIPISLETGQ\n",
            "DLVPWNLCKPTVCDLSGGLVEGVSARSYTPLMKRHLCQGLEERVQHYVKRGRITLPSDRD\n",
            "RLEDKTPTEKGEKEVADNQVQNNGQLPHSNTQSKGGVKLDQSRDYNKEGAFSQTLERGET\n",
            "VSESENCDPTTQEKPAKRQCLGTGN\n"
          ]
        }
      ]
    },
    {
      "cell_type": "code",
      "source": [
        "# init_input_json() can handle multiple sequences as input\n",
        "pyrfu_pyrfu_yeast_xentr = init_input_json(\n",
        "\"\"\"\n",
        "MRVALKIAYDGTKFHGFQRQPNVRTIEGEILRALKDAGIEFENFKSASRTDRGVSARGNV\n",
        "IALSTEDDRIKNPMVLNSRMSDVWIWGIAEVPEDFHPRFWANTKVYRYYLPSLGMNIKKM\n",
        "KECSLLFLGTHDFSAFSRVDGRDTIRSIDRIEIWEKCNVVVVEIEGKSFLWEMVRRIVSA\n",
        "LVLCSQGVLAEERIVEMLNGKFEKSRKVPPAPPEGLLLWDIKYENVEFQIDNASLKKFQR\n",
        "EIVERFKLHASLSALYEDLILNEQKI\"\"\".replace('\\n', ''),\n",
        "\"\"\"\n",
        "MRVALKIAYDGTKFHGFQRQPNVRTIEGEILRALKDAGIEFENFKSASRTDRGVSARGNV\n",
        "IALSTEDDRIKNPMVLNSRMSDVWIWGIAEVPEDFHPRFWANTKVYRYYLPSLGMNIKKM\n",
        "KECSLLFLGTHDFSAFSRVDGRDTIRSIDRIEIWEKCNVVVVEIEGKSFLWEMVRRIVSA\n",
        "LVLCSQGVLAEERIVEMLNGKFEKSRKVPPAPPEGLLLWDIKYENVEFQIDNASLKKFQR\n",
        "EIVERFKLHASLSALYEDLILNEQKI\"\"\".replace('\\n', ''),\n",
        "\"\"\"\n",
        "MSNFIRRLVGKMKAISTGTNAIVSKKDSIYANWSKEQLIRRITELENANKPHSEKFQHIE\n",
        "DNKKRKISQEEVTRSKAKKAPKKFDFSKHNTRFIALRFAYLGWNYNGLAVQKEYTPLPTV\n",
        "EGTILEAMNKCKLVPSMVLQDYKFSRCGRTDKGVSAMNQVISLEVRSNLTDEEQRDPTND\n",
        "SREIPYVHVLNQLLPDDIRISAVCLRPPPNFDARFSCVHRHYKYIFNGKNLNIEKMSKAA\n",
        "SYFVGERDFRNFCKLDGSKQITNFKRTIISSKILPLSETFYCFDLVGSAFLWHQVRCMMA\n",
        "ILFLVGQSLEVPEIVLRLTDIEKTPQRPVYEMANDIPLLLYDCKFPEMDWQEPTVDDYKA\n",
        "IKFTTATEALTLHYELKAAVCNIFKDVLPTANTNNFSKTIINLGDGRGKVVGTYVKLEDR\n",
        "SVMEPVEVVNAKYSKKKNNKNK\"\"\".replace('\\n', ''),\n",
        "\"\"\"\n",
        "MSQEDEVTQLRQRVRELEDKVLRLEEQCRGEAPPQGVVQGPSHTKQKQRLQRAFDFSAHP\n",
        "KQHVALRLAYLGWGYQGFASQENTKNTVEETVFNALIKTRLVESRQTSNYHRCGRTDRGV\n",
        "SALGQVISLDLRCSGEGKPEIRYVHILNRVLPPDIRVLSWAAVPPSFSARFSCRSRTYRY\n",
        "LFPCAQLDVEAMDKAARLLEGTHDFRNLCKMDVANGVMNFIRTVLSARVEPVPEIPGDMG\n",
        "PFQLYRLQITGLAFLYHQVRCIMGVLFLVGQGKEKPEVITELLDVAKNPRKPQYNMAVEF\n",
        "PLVLYNCHFDDVQWVSEKEAQSLTVSHLQRLWTQEAVKTQILFMAIGGLDYIPISLETGQ\n",
        "DLVPWNLCKPTVCDLSGGLVEGVSARSYTPLMKRHLCQGLEERVQHYVKRGRITLPSDRD\n",
        "RLEDKTPTEKGEKEVADNQVQNNGQLPHSNTQSKGGVKLDQSRDYNKEGAFSQTLERGET\n",
        "VSESENCDPTTQEKPAKRQCLGTGN\"\"\".replace('\\n', ''),\n",
        ")\n",
        "pyrfu_pyrfu_yeast_xentr"
      ],
      "metadata": {
        "id": "mdfn6pVaKbaR",
        "outputId": "a827b374-22ad-447a-a907-886fc3e69832",
        "colab": {
          "base_uri": "https://localhost:8080/"
        }
      },
      "execution_count": 16,
      "outputs": [
        {
          "output_type": "execute_result",
          "data": {
            "text/plain": [
              "OrderedDict([('dialect', 'alphafold3'),\n",
              "             ('version', 2),\n",
              "             ('name', 'name'),\n",
              "             ('sequences',\n",
              "              [OrderedDict([('protein',\n",
              "                             OrderedDict([('id', 'A'),\n",
              "                                          ('sequence',\n",
              "                                           'MRVALKIAYDGTKFHGFQRQPNVRTIEGEILRALKDAGIEFENFKSASRTDRGVSARGNVIALSTEDDRIKNPMVLNSRMSDVWIWGIAEVPEDFHPRFWANTKVYRYYLPSLGMNIKKMKECSLLFLGTHDFSAFSRVDGRDTIRSIDRIEIWEKCNVVVVEIEGKSFLWEMVRRIVSALVLCSQGVLAEERIVEMLNGKFEKSRKVPPAPPEGLLLWDIKYENVEFQIDNASLKKFQREIVERFKLHASLSALYEDLILNEQKI')]))]),\n",
              "               OrderedDict([('protein',\n",
              "                             OrderedDict([('id', 'B'),\n",
              "                                          ('sequence',\n",
              "                                           'MRVALKIAYDGTKFHGFQRQPNVRTIEGEILRALKDAGIEFENFKSASRTDRGVSARGNVIALSTEDDRIKNPMVLNSRMSDVWIWGIAEVPEDFHPRFWANTKVYRYYLPSLGMNIKKMKECSLLFLGTHDFSAFSRVDGRDTIRSIDRIEIWEKCNVVVVEIEGKSFLWEMVRRIVSALVLCSQGVLAEERIVEMLNGKFEKSRKVPPAPPEGLLLWDIKYENVEFQIDNASLKKFQREIVERFKLHASLSALYEDLILNEQKI')]))]),\n",
              "               OrderedDict([('protein',\n",
              "                             OrderedDict([('id', 'C'),\n",
              "                                          ('sequence',\n",
              "                                           'MSNFIRRLVGKMKAISTGTNAIVSKKDSIYANWSKEQLIRRITELENANKPHSEKFQHIEDNKKRKISQEEVTRSKAKKAPKKFDFSKHNTRFIALRFAYLGWNYNGLAVQKEYTPLPTVEGTILEAMNKCKLVPSMVLQDYKFSRCGRTDKGVSAMNQVISLEVRSNLTDEEQRDPTNDSREIPYVHVLNQLLPDDIRISAVCLRPPPNFDARFSCVHRHYKYIFNGKNLNIEKMSKAASYFVGERDFRNFCKLDGSKQITNFKRTIISSKILPLSETFYCFDLVGSAFLWHQVRCMMAILFLVGQSLEVPEIVLRLTDIEKTPQRPVYEMANDIPLLLYDCKFPEMDWQEPTVDDYKAIKFTTATEALTLHYELKAAVCNIFKDVLPTANTNNFSKTIINLGDGRGKVVGTYVKLEDRSVMEPVEVVNAKYSKKKNNKNK')]))]),\n",
              "               OrderedDict([('protein',\n",
              "                             OrderedDict([('id', 'D'),\n",
              "                                          ('sequence',\n",
              "                                           'MSQEDEVTQLRQRVRELEDKVLRLEEQCRGEAPPQGVVQGPSHTKQKQRLQRAFDFSAHPKQHVALRLAYLGWGYQGFASQENTKNTVEETVFNALIKTRLVESRQTSNYHRCGRTDRGVSALGQVISLDLRCSGEGKPEIRYVHILNRVLPPDIRVLSWAAVPPSFSARFSCRSRTYRYLFPCAQLDVEAMDKAARLLEGTHDFRNLCKMDVANGVMNFIRTVLSARVEPVPEIPGDMGPFQLYRLQITGLAFLYHQVRCIMGVLFLVGQGKEKPEVITELLDVAKNPRKPQYNMAVEFPLVLYNCHFDDVQWVSEKEAQSLTVSHLQRLWTQEAVKTQILFMAIGGLDYIPISLETGQDLVPWNLCKPTVCDLSGGLVEGVSARSYTPLMKRHLCQGLEERVQHYVKRGRITLPSDRDRLEDKTPTEKGEKEVADNQVQNNGQLPHSNTQSKGGVKLDQSRDYNKEGAFSQTLERGETVSESENCDPTTQEKPAKRQCLGTGN')]))])]),\n",
              "             ('modelSeeds', [1]),\n",
              "             ('bondedAtomPairs', None),\n",
              "             ('userCCD', None)])"
            ]
          },
          "metadata": {},
          "execution_count": 16
        }
      ]
    },
    {
      "cell_type": "code",
      "source": [
        "# Use colab_data_pipeline() as previously to attach the MSAs\n",
        "pyrfu_pyrfu_yeast_xentr_data = colab_data_pipeline(pyrfu_pyrfu_yeast_xentr)"
      ],
      "metadata": {
        "id": "SUfcmAJlK3jU",
        "outputId": "7bb6d7c3-a28e-427f-86da-10eb7fd3d9b0",
        "colab": {
          "base_uri": "https://localhost:8080/"
        }
      },
      "execution_count": 17,
      "outputs": [
        {
          "output_type": "stream",
          "name": "stdout",
          "text": [
            "MPLBACKEND=AGG; source /colabfold_venv/bin/activate; colabfold_batch --msa-only --af3-json /tmp/_get_colabfold_msa/input/2ac1642aefd62bfd7e970102a5cb8a3dac21148d.fasta /tmp/_get_colabfold_msa/output\n",
            "MPLBACKEND=AGG; source /colabfold_venv/bin/activate; colabfold_batch --msa-only --af3-json /tmp/_get_colabfold_msa/input/9ff98a507ef190ecaccd07e7f543568bc0182e79.fasta /tmp/_get_colabfold_msa/output\n"
          ]
        }
      ]
    },
    {
      "cell_type": "code",
      "source": [
        "# Set the name attribute & write the pool to pools_input/:\n",
        "pyrfu_pyrfu_yeast_xentr_data['name'] = 'pyrfu_pyrfu_yeast_xentr'\n",
        "write_input_json(pyrfu_pyrfu_yeast_xentr_data, 'pools_input/{}.json')\n",
        "!ls -l pools_input/"
      ],
      "metadata": {
        "id": "066kqEq7K6uz",
        "outputId": "e853e112-580c-4e8f-f3e7-3d846202a1de",
        "colab": {
          "base_uri": "https://localhost:8080/"
        }
      },
      "execution_count": 18,
      "outputs": [
        {
          "output_type": "stream",
          "name": "stdout",
          "text": [
            "total 18216\n",
            "-rw-r--r-- 1 root root 18653178 Oct  1 12:22 pyrfu_pyrfu_yeast_xentr.json\n"
          ]
        }
      ]
    },
    {
      "cell_type": "code",
      "source": [
        "# Run AlphaFold 3 on pools_input/\n",
        "%%shell\n",
        "source /alphafold3_venv/bin/activate\n",
        "/app/alphafold/run_alphafold3_autogpu.sh \\\n",
        "  --input_dir=/content/pools_input/ \\\n",
        "  --output_dir=/content/pools_output/ \\\n",
        "  --norun_data_pipeline"
      ],
      "metadata": {
        "id": "aTEEjhkaLJHP",
        "outputId": "2084da25-fd5a-4b27-cfaa-8b4cc97ef8ff",
        "colab": {
          "base_uri": "https://localhost:8080/"
        }
      },
      "execution_count": 19,
      "outputs": [
        {
          "output_type": "stream",
          "name": "stdout",
          "text": [
            "Updated 1 path from the index\n",
            "Using compilation time workaround with XLA flags\n",
            "Using low GPU memory setup (40 GB)\n",
            "Adjusting pair_transition_shard_spec in model_config.py\n",
            "Enabling unified memory\n",
            "Executing run_alphafold.py\n",
            "I1001 12:22:49.476992 138398294884992 xla_bridge.py:895] Unable to initialize backend 'rocm': module 'jaxlib.xla_extension' has no attribute 'GpuAllocatorConfig'\n",
            "I1001 12:22:49.478073 138398294884992 xla_bridge.py:895] Unable to initialize backend 'tpu': INTERNAL: Failed to open libtpu.so: libtpu.so: cannot open shared object file: No such file or directory\n",
            "\n",
            "Running AlphaFold 3. Please note that standard AlphaFold 3 model parameters are\n",
            "only available under terms of use provided at\n",
            "https://github.com/google-deepmind/alphafold3/blob/main/WEIGHTS_TERMS_OF_USE.md.\n",
            "If you do not agree to these terms and are using AlphaFold 3 derived model\n",
            "parameters, cancel execution of AlphaFold 3 inference with CTRL-C, and do not\n",
            "use the model parameters.\n",
            "\n",
            "Found local devices: [CudaDevice(id=0)], using device 0: cuda:0\n",
            "Building model from scratch...\n",
            "Checking that model parameters can be loaded...\n",
            "2025-10-01 12:22:49.514536: W external/xla/xla/service/gpu/nvptx_compiler.cc:930] The NVIDIA driver's CUDA version is 12.4 which is older than the PTX compiler version 12.6.77. Because the driver is older than the PTX compiler version, XLA is disabling parallel compilation, which may slow down compilation. You should update your NVIDIA driver or use the NVIDIA-provided CUDA forward compatibility packages.\n",
            "\n",
            "Running fold job pyrfu_pyrfu_yeast_xentr...\n",
            "Output will be written in /content/pools_output/pyrfu_pyrfu_yeast_xentr\n",
            "Skipping data pipeline...\n",
            "Writing model input JSON to /content/pools_output/pyrfu_pyrfu_yeast_xentr/pyrfu_pyrfu_yeast_xentr_data.json\n",
            "Predicting 3D structure for pyrfu_pyrfu_yeast_xentr with 1 seed(s)...\n",
            "Featurising data with 1 seed(s)...\n",
            "Featurising data with seed 1.\n",
            "I1001 12:23:00.522173 138398294884992 pipeline.py:173] processing pyrfu_pyrfu_yeast_xentr, random_seed=1\n",
            "I1001 12:23:00.769243 138398294884992 pipeline.py:266] Calculating bucket size for input with 1479 tokens.\n",
            "I1001 12:23:00.769485 138398294884992 pipeline.py:272] Got bucket size 1536 for input with 1479 tokens, resulting in 57 padded tokens.\n",
            "Featurising data with seed 1 took 34.22 seconds.\n",
            "Featurising data with 1 seed(s) took 40.33 seconds.\n",
            "Running model inference and extracting output structure samples with 1 seed(s)...\n",
            "Running model inference with seed 1...\n",
            "Running model inference with seed 1 took 205.09 seconds.\n",
            "Extracting inference results with seed 1...\n",
            "Extracting 5 inference samples with seed 1 took 3.36 seconds.\n",
            "Running model inference and extracting output structures with 1 seed(s) took 208.45 seconds.\n",
            "Writing outputs with 1 seed(s)...\n",
            "Fold job pyrfu_pyrfu_yeast_xentr done, output written to /content/pools_output/pyrfu_pyrfu_yeast_xentr\n",
            "\n",
            "Done running 1 fold jobs.\n"
          ]
        },
        {
          "output_type": "execute_result",
          "data": {
            "text/plain": []
          },
          "metadata": {},
          "execution_count": 19
        }
      ]
    },
    {
      "cell_type": "code",
      "source": [
        "# Show matrix of interaction-level ipTM confidence metrics\n",
        "with open('pools_output/pyrfu_pyrfu_yeast_xentr/pyrfu_pyrfu_yeast_xentr_summary_confidences.json') as fh:\n",
        "  summary_confidences = json.load(fh)\n",
        "print(np.matrix(summary_confidences['chain_pair_iptm']))"
      ],
      "metadata": {
        "id": "1x_kcATuLWFQ",
        "outputId": "7bfe6a9b-e303-4184-bb93-b33dfb632527",
        "colab": {
          "base_uri": "https://localhost:8080/"
        }
      },
      "execution_count": 20,
      "outputs": [
        {
          "output_type": "stream",
          "name": "stdout",
          "text": [
            "[[0.88 0.71 0.09 0.1 ]\n",
            " [0.71 0.88 0.09 0.1 ]\n",
            " [0.09 0.09 0.65 0.26]\n",
            " [0.1  0.1  0.26 0.61]]\n"
          ]
        }
      ]
    },
    {
      "cell_type": "code",
      "source": [],
      "metadata": {
        "id": "TOWqGaY0vbq5"
      },
      "execution_count": null,
      "outputs": []
    }
  ]
}